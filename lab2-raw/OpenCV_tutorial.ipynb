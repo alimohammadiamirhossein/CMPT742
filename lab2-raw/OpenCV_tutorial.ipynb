{
 "cells": [
  {
   "cell_type": "markdown",
   "metadata": {
    "id": "JzqdZxYbiv71"
   },
   "source": [
    "# CMPT 732 - Fall 2021\n",
    "# OpenCV introduction\n",
    "\n",
    "__content creator:__ Aryan Mikaeili"
   ]
  },
  {
   "cell_type": "markdown",
   "metadata": {
    "id": "jZsaDc1ui4rf"
   },
   "source": [
    "#Introduction\n",
    "\n",
    "OpenCV is a library that makes computer vision tasks fast and efficient. It contains many functions of computer vision like edge detection, filtering, key-point matching, and etc, as well as tools to create and edit images. Python and C++ both have OpenCV APIs."
   ]
  },
  {
   "cell_type": "markdown",
   "metadata": {
    "id": "gPDQ7VdwjisK"
   },
   "source": [
    "#Installing and importing\n",
    "\n",
    "To install the library on your localhost you can use __pip__. In order to do that, just type __pip install opencv-python__ in your terminal. In Colab OpenCV has already been installed so there is no need to do any extra things."
   ]
  },
  {
   "cell_type": "code",
   "execution_count": 2,
   "metadata": {
    "id": "Asa2m5I8i2h5"
   },
   "outputs": [],
   "source": [
    "#importing OpenCV\n",
    "\n",
    "import cv2"
   ]
  },
  {
   "cell_type": "markdown",
   "metadata": {
    "id": "l2kdMyCLkLTc"
   },
   "source": [
    "For this notebook we will aslo need Numpy and Matplotlib. On your local computer you can simply install them using pip."
   ]
  },
  {
   "cell_type": "code",
   "execution_count": 5,
   "metadata": {
    "id": "hau-NaP2kyvx"
   },
   "outputs": [],
   "source": [
    "#importing numpy and matplotlib\n",
    "\n",
    "import numpy as np\n",
    "import matplotlib.pyplot as plt\n",
    "\n",
    "\n",
    "#please ignore this line \n",
    "plt.style.use(\"https://raw.githubusercontent.com/NeuromatchAcademy/course-content/master/nma.mplstyle\")"
   ]
  },
  {
   "cell_type": "markdown",
   "metadata": {
    "id": "uL69Vp1tm8y_"
   },
   "source": [
    "#Practice 1\n",
    "\n",
    "1. using __cv2.imread()__ read one of the images.\n",
    "2. make sure the image is loaded properly by using __is None__\n",
    "3. print the image type, the image shape, and a 3 $\\times$ 3 window of it.\n",
    "4. now using plt.imshow() show the image."
   ]
  },
  {
   "cell_type": "code",
   "execution_count": null,
   "metadata": {
    "id": "LM85DOkYlDJq"
   },
   "outputs": [],
   "source": [
    "#read the image\n",
    "\n",
    "image = ...\n",
    "\n",
    "#check if the image is loaded properly\n",
    "\n",
    "if ...:\n",
    "  print('image not loaded properly')\n",
    "else:\n",
    "  print('image loaded properly')\n",
    "\n",
    "#print image type, shape, and a 3*3 window of the image\n",
    "\n",
    "print('type:', ...)\n",
    "print('shape:', ...)\n",
    "print('3*3 window:', ...)\n",
    "\n",
    "#show the image\n",
    "...\n",
    "\n"
   ]
  },
  {
   "cell_type": "code",
   "execution_count": null,
   "metadata": {
    "cellView": "form",
    "id": "1WLgMzuHo3P8"
   },
   "outputs": [],
   "source": [
    "#@title Solution\n",
    "\n",
    "#read the image\n",
    "\n",
    "image = cv2.imread('images/Lenna.png')\n",
    "\n",
    "#check if the image is loaded properly\n",
    "\n",
    "if image is None:\n",
    "  print('image not loaded properly')\n",
    "else:\n",
    "  print('image loaded properly')\n",
    "\n",
    "#print image type, shape, and a 3*3 window of the image\n",
    "\n",
    "print('type:', image.dtype)\n",
    "print('shape:', image.shape)\n",
    "print('3*3 window:', image[:3, :3, :])\n",
    "\n",
    "#show the image\n",
    "plt.imshow(image)\n",
    "plt.show()\n",
    "\n"
   ]
  },
  {
   "cell_type": "markdown",
   "metadata": {
    "id": "scjFdC-mptA9"
   },
   "source": [
    "What happened is that because OpenCV reads images in BGR format, the color channels are reversed. This can be fixed by using the following piece of code"
   ]
  },
  {
   "cell_type": "code",
   "execution_count": null,
   "metadata": {
    "id": "-F84e7DUpsje"
   },
   "outputs": [],
   "source": [
    "#converting BGR to RGB\n",
    "image_rgb = cv2.cvtColor(image, cv2.COLOR_BGR2RGB)\n",
    "\n",
    "plt.imshow(image_rgb)\n",
    "plt.show()\n"
   ]
  },
  {
   "cell_type": "markdown",
   "metadata": {
    "id": "e6ZD0D5esnBO"
   },
   "source": [
    "#Basic Operations on images"
   ]
  },
  {
   "cell_type": "markdown",
   "metadata": {
    "id": "IdOTnD5Fs3aP"
   },
   "source": [
    "#Practice 2\n",
    "\n",
    "1. create a 100 $\\times$ 100 black images. note that as we saw OpenCV uses numpy arrays to represent images."
   ]
  },
  {
   "cell_type": "code",
   "execution_count": null,
   "metadata": {
    "id": "tbAlvFQyrhyg"
   },
   "outputs": [],
   "source": [
    "image = ...\n",
    "\n",
    "plt.imshow(image, cmap='gray')\n",
    "plt.show()"
   ]
  },
  {
   "cell_type": "code",
   "execution_count": null,
   "metadata": {
    "cellView": "form",
    "id": "2Lu4KwKDvWTF"
   },
   "outputs": [],
   "source": [
    "#@title Solution\n",
    "\n",
    "image = np.zeros((100, 100))\n",
    "\n",
    "plt.imshow(image, cmap='gray')\n",
    "plt.show()"
   ]
  },
  {
   "cell_type": "markdown",
   "metadata": {
    "id": "LQ-0jr8JwLeT"
   },
   "source": [
    "2. You can draw a line in an image using OpenCV with cv2.line(image, start point, end point, color, thickness). draw a line on one of the diagonals of the black image."
   ]
  },
  {
   "cell_type": "code",
   "execution_count": null,
   "metadata": {
    "id": "kUI2nvCxzTss"
   },
   "outputs": [],
   "source": [
    "image = ...\n",
    "\n",
    "plt.imshow(image, cmap='gray')\n",
    "plt.show()"
   ]
  },
  {
   "cell_type": "code",
   "execution_count": null,
   "metadata": {
    "cellView": "form",
    "id": "YTkRzppgwKg_"
   },
   "outputs": [],
   "source": [
    "#@title Solution\n",
    "\n",
    "image = cv2.line(image, (0, 0), (image.shape[1], image.shape[0]), 128, thickness=1)\n",
    "\n",
    "plt.imshow(image, cmap='gray')\n",
    "plt.show()\n"
   ]
  },
  {
   "cell_type": "markdown",
   "metadata": {
    "id": "ynzUkl7_zdoS"
   },
   "source": [
    "3. You can also draw shapes on an image. for example draw a rectangle and a circle using cv2.rectangle(image, top left, bottom right, color, thickness), cv2.circle(image, center, radius, color, thickness)."
   ]
  },
  {
   "cell_type": "code",
   "execution_count": null,
   "metadata": {
    "id": "l6lNZPt90__w"
   },
   "outputs": [],
   "source": [
    "#draw a rectangle\n",
    "\n",
    "image = ...\n",
    "plt.imshow(image, cmap='gray')\n",
    "plt.show()"
   ]
  },
  {
   "cell_type": "code",
   "execution_count": null,
   "metadata": {
    "id": "f3_-Eo_P1X4P"
   },
   "outputs": [],
   "source": [
    "#add a circle\n",
    "image = ...\n",
    "plt.imshow(image, cmap='gray')\n",
    "plt.show()"
   ]
  },
  {
   "cell_type": "code",
   "execution_count": null,
   "metadata": {
    "cellView": "form",
    "id": "91NloDB30Ebr"
   },
   "outputs": [],
   "source": [
    "#@title Solution\n",
    "\n",
    "#draw a rectangle\n",
    "\n",
    "image = cv2.rectangle(image, (24, 32), (48, 72), color=128, thickness=1)\n",
    "plt.imshow(image, cmap='gray')\n",
    "\n",
    "#add a circle\n",
    "image = cv2.circle(image, (24, 32), 10, color=128, thickness=1)\n",
    "plt.imshow(image, cmap='gray')\n",
    "plt.show()"
   ]
  },
  {
   "cell_type": "markdown",
   "metadata": {
    "id": "75jtyu8n1rls"
   },
   "source": [
    "There are also other possibilities like adding other shapes, adding text, and etc."
   ]
  },
  {
   "cell_type": "markdown",
   "metadata": {
    "id": "oZVBfFJy2LhW"
   },
   "source": [
    "#Modyfing pixels\n",
    "\n",
    "Because in OpenCV images are just numpy arrays, they can be easily modified."
   ]
  },
  {
   "cell_type": "markdown",
   "metadata": {
    "id": "Y7Yo-MJu2S1f"
   },
   "source": [
    "#Practice 3\n",
    "\n",
    "1. Load messi.jpg \n",
    "2. change a 5 $\\times$ 5 window to green\n",
    "3. copy a 50 $\\times$ 50 window to another part of the image."
   ]
  },
  {
   "cell_type": "code",
   "execution_count": null,
   "metadata": {
    "id": "G65PU8Ec5OQN"
   },
   "outputs": [],
   "source": [
    "#load the image\n",
    "\n",
    "image = ...\n",
    "\n",
    "plt.imshow(image)\n",
    "plt.show()"
   ]
  },
  {
   "cell_type": "code",
   "execution_count": null,
   "metadata": {
    "id": "kba55v2F5ZMa"
   },
   "outputs": [],
   "source": [
    "#change a 5*5 window to green\n",
    "..."
   ]
  },
  {
   "cell_type": "code",
   "execution_count": null,
   "metadata": {
    "id": "X52vvzfP5c9W"
   },
   "outputs": [],
   "source": [
    "#copy a 50*50 window\n",
    "..."
   ]
  },
  {
   "cell_type": "code",
   "execution_count": null,
   "metadata": {
    "cellView": "form",
    "id": "-4idOl6D1Ha6"
   },
   "outputs": [],
   "source": [
    "#@title Solution\n",
    "#loading the image\n",
    "\n",
    "image = cv2.imread('images/messi.jpg')\n",
    "\n",
    "#convert to RGB\n",
    "image = cv2.cvtColor(image, cv2.COLOR_BGR2RGB)\n",
    "\n",
    "plt.imshow(image)\n",
    "plt.show()"
   ]
  },
  {
   "cell_type": "code",
   "execution_count": null,
   "metadata": {
    "cellView": "form",
    "id": "vvuQJbaCzPI0"
   },
   "outputs": [],
   "source": [
    "#@title Solution\n",
    "#change a 5*5 window to green\n",
    "\n",
    "image[100:105, 100:105] = [0, 255, 0]\n",
    "\n",
    "plt.imshow(image)\n",
    "plt.show()"
   ]
  },
  {
   "cell_type": "code",
   "execution_count": null,
   "metadata": {
    "cellView": "form",
    "id": "dAyxHgIy4uiQ"
   },
   "outputs": [],
   "source": [
    "#@title Solution\n",
    "#copy a 50*50 window\n",
    "\n",
    "image[200:250, 100:150] = image[100:150, 200:250]\n",
    "\n",
    "plt.imshow(image)\n",
    "plt.show()"
   ]
  },
  {
   "cell_type": "markdown",
   "metadata": {
    "id": "5zSYPRvNkGpO"
   },
   "source": [
    "#Practice4: Sobel edge detector\n",
    "\n",
    "As mentioned at the beginning, One of the things that we can do with OpenCV is edge detection. Sobel edge detector is one of the most prominent methods of edge detection. the Sobel function in OpenCV is as follows: __cv2.Sobel(image, type of output, order of the derivative x, order of the derivative y, kernel size = 3, scale = 1.0)__\n",
    "\n",
    "1. load wheel.png as a grayscale image.\n",
    "2. find the edges in x and y directions\n",
    "3. find the magnitude of edges in each pixel\n",
    "4. show the edges\n",
    "\n"
   ]
  },
  {
   "cell_type": "code",
   "execution_count": null,
   "metadata": {
    "id": "wvS-VwFEqFcX"
   },
   "outputs": [],
   "source": [
    "#load image as grayscale\n",
    "\n",
    "image = ...\n",
    "\n",
    "#compute sobel filters in x and y directions\n",
    "sobel_x = cv2.Sobel(...)\n",
    "sobel_y = cv2.Sobel(...)\n",
    "\n",
    "#compute the intensity of edges for each pixel\n",
    "edges = ...\n",
    "\n"
   ]
  },
  {
   "cell_type": "code",
   "execution_count": 30,
   "metadata": {
    "cellView": "form",
    "id": "9e7gv_7SkFew"
   },
   "outputs": [],
   "source": [
    "#@title Solution\n",
    "image = cv2.imread('images/wheel.png', cv2.IMREAD_GRAYSCALE)\n",
    "\n",
    "sobel_x = cv2.Sobel(image, cv2.CV_64F, 1, 0)\n",
    "sobel_y = cv2.Sobel(image, cv2.CV_64F, 0, 1)\n",
    "\n",
    "edges = np.sqrt(sobel_x ** 2 + sobel_y ** 2)\n"
   ]
  },
  {
   "cell_type": "code",
   "execution_count": null,
   "metadata": {
    "cellView": "form",
    "id": "ev1lzOicqh1S"
   },
   "outputs": [],
   "source": [
    "#@title check your answer by running this cell\n",
    "\n",
    "fig, axes = plt.subplots(2, 2, figsize = (6, 6))\n",
    "\n",
    "axes[0, 0].imshow(image, cmap = 'gray')\n",
    "axes[0, 0].set_title('Original image')\n",
    "axes[0, 0].axis('off')\n",
    "\n",
    "axes[0, 1].imshow(sobel_x, cmap = 'gray')\n",
    "axes[0, 1].set_title('X direction')\n",
    "axes[0, 1].axis('off')\n",
    "\n",
    "axes[1, 0].imshow(sobel_y, cmap = 'gray')\n",
    "axes[1, 0].set_title('Y direction')\n",
    "axes[1, 0].axis('off')\n",
    "\n",
    "\n",
    "axes[1, 1].imshow(edges, cmap = 'gray')\n",
    "axes[1, 1].set_title('Edges')\n",
    "axes[1, 1].axis('off')\n",
    "plt.show()\n",
    "\n"
   ]
  },
  {
   "cell_type": "markdown",
   "metadata": {
    "id": "9ZHTX-AKQT13"
   },
   "source": [
    "#Practice5: Removing noise\n",
    "\n",
    "One of the tasks that can be done with OpenCV is noise removal. \n",
    "One of the most common noises in images is the salt and pepper noises. Run the cell below to see an image with this kind of noise."
   ]
  },
  {
   "cell_type": "code",
   "execution_count": null,
   "metadata": {
    "cellView": "form",
    "id": "LYbAS4sfQQ8h"
   },
   "outputs": [],
   "source": [
    "#@title Run this cell to generate noisy image\n",
    "\n",
    "image = cv2.imread('images/kidman-cruise.jpg', cv2.IMREAD_GRAYSCALE)\n",
    "\n",
    "noise_loc_x = np.random.randint(0, image.shape[0] - 10, 500)\n",
    "noise_loc_y = np.random.randint(0, image.shape[1] - 10, 500)\n",
    "\n",
    "noise_loc = np.concatenate([noise_loc_x, noise_loc_y])\n",
    "\n",
    "for i in range(500):\n",
    "  image[noise_loc_x[i]: noise_loc_x[i] + 2, noise_loc_y[i]:noise_loc_y[i] + 2] = 255\n",
    "\n",
    "\n",
    "plt.imshow(image, cmap='gray')\n",
    "plt.show()"
   ]
  },
  {
   "cell_type": "markdown",
   "metadata": {
    "id": "ul6HkQt3SbK2"
   },
   "source": [
    "One way to remove this kind of noise is by median filtering. median filtering means that we take windows of a certain size and slide it on the image. In each window we take the median of the pixel values and put it in the pixel at the center of the window. Search how you can do median filtering in openCV an denoise the image. See what happens when you change window size."
   ]
  },
  {
   "cell_type": "code",
   "execution_count": null,
   "metadata": {
    "id": "-09vTC8dTXNs"
   },
   "outputs": [],
   "source": [
    "#denoise image\n",
    "denoised_image = ..."
   ]
  },
  {
   "cell_type": "code",
   "execution_count": null,
   "metadata": {
    "cellView": "form",
    "id": "DXTkQgnSS1P8"
   },
   "outputs": [],
   "source": [
    "#@title Solution \n",
    "\n",
    "denoised_image = cv2.medianBlur(image, 5)\n",
    "\n"
   ]
  },
  {
   "cell_type": "code",
   "execution_count": null,
   "metadata": {
    "cellView": "form",
    "id": "yZEREl85Tc1I"
   },
   "outputs": [],
   "source": [
    "#@title Run this cell to check your solution\n",
    "plt.imshow(denoised_image, cmap='gray')\n",
    "plt.show()"
   ]
  }
 ],
 "metadata": {
  "colab": {
   "name": "OpenCV_tutorial.ipynb",
   "provenance": []
  },
  "kernelspec": {
   "display_name": "Python 3",
   "language": "python",
   "name": "python3"
  },
  "language_info": {
   "codemirror_mode": {
    "name": "ipython",
    "version": 3
   },
   "file_extension": ".py",
   "mimetype": "text/x-python",
   "name": "python",
   "nbconvert_exporter": "python",
   "pygments_lexer": "ipython3",
   "version": "3.8.3"
  }
 },
 "nbformat": 4,
 "nbformat_minor": 1
}
